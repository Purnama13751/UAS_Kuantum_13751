{
  "cells": [
    {
      "cell_type": "code",
      "execution_count": 1,
      "metadata": {
        "colab": {
          "base_uri": "https://localhost:8080/"
        },
        "id": "8iltbac34EzH",
        "outputId": "724c5058-c33b-45ed-d51a-c7f9bd0f2036"
      },
      "outputs": [
        {
          "output_type": "stream",
          "name": "stdout",
          "text": [
            "Collecting qiskit\n",
            "  Downloading qiskit-1.1.1-cp38-abi3-manylinux_2_17_x86_64.manylinux2014_x86_64.whl (4.3 MB)\n",
            "\u001b[2K     \u001b[90m━━━━━━━━━━━━━━━━━━━━━━━━━━━━━━━━━━━━━━━━\u001b[0m \u001b[32m4.3/4.3 MB\u001b[0m \u001b[31m11.3 MB/s\u001b[0m eta \u001b[36m0:00:00\u001b[0m\n",
            "\u001b[?25hCollecting rustworkx>=0.14.0 (from qiskit)\n",
            "  Downloading rustworkx-0.15.1-cp38-abi3-manylinux_2_17_x86_64.manylinux2014_x86_64.whl (2.0 MB)\n",
            "\u001b[2K     \u001b[90m━━━━━━━━━━━━━━━━━━━━━━━━━━━━━━━━━━━━━━━━\u001b[0m \u001b[32m2.0/2.0 MB\u001b[0m \u001b[31m8.1 MB/s\u001b[0m eta \u001b[36m0:00:00\u001b[0m\n",
            "\u001b[?25hRequirement already satisfied: numpy<3,>=1.17 in /usr/local/lib/python3.10/dist-packages (from qiskit) (1.25.2)\n",
            "Requirement already satisfied: scipy>=1.5 in /usr/local/lib/python3.10/dist-packages (from qiskit) (1.11.4)\n",
            "Requirement already satisfied: sympy>=1.3 in /usr/local/lib/python3.10/dist-packages (from qiskit) (1.13.0)\n",
            "Collecting dill>=0.3 (from qiskit)\n",
            "  Downloading dill-0.3.8-py3-none-any.whl (116 kB)\n",
            "\u001b[2K     \u001b[90m━━━━━━━━━━━━━━━━━━━━━━━━━━━━━━━━━━━━━━━━\u001b[0m \u001b[32m116.3/116.3 kB\u001b[0m \u001b[31m7.8 MB/s\u001b[0m eta \u001b[36m0:00:00\u001b[0m\n",
            "\u001b[?25hRequirement already satisfied: python-dateutil>=2.8.0 in /usr/local/lib/python3.10/dist-packages (from qiskit) (2.8.2)\n",
            "Collecting stevedore>=3.0.0 (from qiskit)\n",
            "  Downloading stevedore-5.2.0-py3-none-any.whl (49 kB)\n",
            "\u001b[2K     \u001b[90m━━━━━━━━━━━━━━━━━━━━━━━━━━━━━━━━━━━━━━━━\u001b[0m \u001b[32m49.7/49.7 kB\u001b[0m \u001b[31m2.6 MB/s\u001b[0m eta \u001b[36m0:00:00\u001b[0m\n",
            "\u001b[?25hRequirement already satisfied: typing-extensions in /usr/local/lib/python3.10/dist-packages (from qiskit) (4.12.2)\n",
            "Collecting symengine>=0.11 (from qiskit)\n",
            "  Downloading symengine-0.11.0-cp310-cp310-manylinux_2_12_x86_64.manylinux2010_x86_64.whl (39.4 MB)\n",
            "\u001b[2K     \u001b[90m━━━━━━━━━━━━━━━━━━━━━━━━━━━━━━━━━━━━━━━━\u001b[0m \u001b[32m39.4/39.4 MB\u001b[0m \u001b[31m7.2 MB/s\u001b[0m eta \u001b[36m0:00:00\u001b[0m\n",
            "\u001b[?25hRequirement already satisfied: six>=1.5 in /usr/local/lib/python3.10/dist-packages (from python-dateutil>=2.8.0->qiskit) (1.16.0)\n",
            "Collecting pbr!=2.1.0,>=2.0.0 (from stevedore>=3.0.0->qiskit)\n",
            "  Downloading pbr-6.0.0-py2.py3-none-any.whl (107 kB)\n",
            "\u001b[2K     \u001b[90m━━━━━━━━━━━━━━━━━━━━━━━━━━━━━━━━━━━━━━━━\u001b[0m \u001b[32m107.5/107.5 kB\u001b[0m \u001b[31m2.7 MB/s\u001b[0m eta \u001b[36m0:00:00\u001b[0m\n",
            "\u001b[?25hRequirement already satisfied: mpmath<1.4,>=1.1.0 in /usr/local/lib/python3.10/dist-packages (from sympy>=1.3->qiskit) (1.3.0)\n",
            "Installing collected packages: symengine, rustworkx, pbr, dill, stevedore, qiskit\n",
            "Successfully installed dill-0.3.8 pbr-6.0.0 qiskit-1.1.1 rustworkx-0.15.1 stevedore-5.2.0 symengine-0.11.0\n"
          ]
        }
      ],
      "source": [
        "pip install qiskit"
      ]
    },
    {
      "cell_type": "code",
      "execution_count": 2,
      "metadata": {
        "colab": {
          "base_uri": "https://localhost:8080/"
        },
        "id": "v2348ch24Ig8",
        "outputId": "3a53434c-e301-4557-9f38-eeebea780843"
      },
      "outputs": [
        {
          "output_type": "stream",
          "name": "stdout",
          "text": [
            "Collecting qiskit-ibm-runtime\n",
            "  Downloading qiskit_ibm_runtime-0.25.0-py3-none-any.whl (2.9 MB)\n",
            "\u001b[2K     \u001b[90m━━━━━━━━━━━━━━━━━━━━━━━━━━━━━━━━━━━━━━━━\u001b[0m \u001b[32m2.9/2.9 MB\u001b[0m \u001b[31m10.0 MB/s\u001b[0m eta \u001b[36m0:00:00\u001b[0m\n",
            "\u001b[?25hRequirement already satisfied: requests>=2.19 in /usr/local/lib/python3.10/dist-packages (from qiskit-ibm-runtime) (2.31.0)\n",
            "Collecting requests-ntlm>=1.1.0 (from qiskit-ibm-runtime)\n",
            "  Downloading requests_ntlm-1.3.0-py3-none-any.whl (6.6 kB)\n",
            "Requirement already satisfied: numpy>=1.13 in /usr/local/lib/python3.10/dist-packages (from qiskit-ibm-runtime) (1.25.2)\n",
            "Requirement already satisfied: urllib3>=1.21.1 in /usr/local/lib/python3.10/dist-packages (from qiskit-ibm-runtime) (2.0.7)\n",
            "Requirement already satisfied: python-dateutil>=2.8.0 in /usr/local/lib/python3.10/dist-packages (from qiskit-ibm-runtime) (2.8.2)\n",
            "Requirement already satisfied: websocket-client>=1.5.1 in /usr/local/lib/python3.10/dist-packages (from qiskit-ibm-runtime) (1.8.0)\n",
            "Collecting ibm-platform-services>=0.22.6 (from qiskit-ibm-runtime)\n",
            "  Downloading ibm-platform-services-0.55.1.tar.gz (323 kB)\n",
            "\u001b[2K     \u001b[90m━━━━━━━━━━━━━━━━━━━━━━━━━━━━━━━━━━━━━━━━\u001b[0m \u001b[32m323.1/323.1 kB\u001b[0m \u001b[31m21.5 MB/s\u001b[0m eta \u001b[36m0:00:00\u001b[0m\n",
            "\u001b[?25h  Installing build dependencies ... \u001b[?25l\u001b[?25hdone\n",
            "  Getting requirements to build wheel ... \u001b[?25l\u001b[?25hdone\n",
            "  Preparing metadata (pyproject.toml) ... \u001b[?25l\u001b[?25hdone\n",
            "Requirement already satisfied: pydantic>=2.5.0 in /usr/local/lib/python3.10/dist-packages (from qiskit-ibm-runtime) (2.8.2)\n",
            "Requirement already satisfied: qiskit>=1.1.0 in /usr/local/lib/python3.10/dist-packages (from qiskit-ibm-runtime) (1.1.1)\n",
            "Collecting ibm-cloud-sdk-core<4.0.0,>=3.20.3 (from ibm-platform-services>=0.22.6->qiskit-ibm-runtime)\n",
            "  Downloading ibm-cloud-sdk-core-3.20.3.tar.gz (62 kB)\n",
            "\u001b[2K     \u001b[90m━━━━━━━━━━━━━━━━━━━━━━━━━━━━━━━━━━━━━━━━\u001b[0m \u001b[32m62.7/62.7 kB\u001b[0m \u001b[31m6.4 MB/s\u001b[0m eta \u001b[36m0:00:00\u001b[0m\n",
            "\u001b[?25h  Installing build dependencies ... \u001b[?25l\u001b[?25hdone\n",
            "  Getting requirements to build wheel ... \u001b[?25l\u001b[?25hdone\n",
            "  Preparing metadata (pyproject.toml) ... \u001b[?25l\u001b[?25hdone\n",
            "Requirement already satisfied: annotated-types>=0.4.0 in /usr/local/lib/python3.10/dist-packages (from pydantic>=2.5.0->qiskit-ibm-runtime) (0.7.0)\n",
            "Requirement already satisfied: pydantic-core==2.20.1 in /usr/local/lib/python3.10/dist-packages (from pydantic>=2.5.0->qiskit-ibm-runtime) (2.20.1)\n",
            "Requirement already satisfied: typing-extensions>=4.6.1 in /usr/local/lib/python3.10/dist-packages (from pydantic>=2.5.0->qiskit-ibm-runtime) (4.12.2)\n",
            "Requirement already satisfied: six>=1.5 in /usr/local/lib/python3.10/dist-packages (from python-dateutil>=2.8.0->qiskit-ibm-runtime) (1.16.0)\n",
            "Requirement already satisfied: rustworkx>=0.14.0 in /usr/local/lib/python3.10/dist-packages (from qiskit>=1.1.0->qiskit-ibm-runtime) (0.15.1)\n",
            "Requirement already satisfied: scipy>=1.5 in /usr/local/lib/python3.10/dist-packages (from qiskit>=1.1.0->qiskit-ibm-runtime) (1.11.4)\n",
            "Requirement already satisfied: sympy>=1.3 in /usr/local/lib/python3.10/dist-packages (from qiskit>=1.1.0->qiskit-ibm-runtime) (1.13.0)\n",
            "Requirement already satisfied: dill>=0.3 in /usr/local/lib/python3.10/dist-packages (from qiskit>=1.1.0->qiskit-ibm-runtime) (0.3.8)\n",
            "Requirement already satisfied: stevedore>=3.0.0 in /usr/local/lib/python3.10/dist-packages (from qiskit>=1.1.0->qiskit-ibm-runtime) (5.2.0)\n",
            "Requirement already satisfied: symengine>=0.11 in /usr/local/lib/python3.10/dist-packages (from qiskit>=1.1.0->qiskit-ibm-runtime) (0.11.0)\n",
            "Requirement already satisfied: charset-normalizer<4,>=2 in /usr/local/lib/python3.10/dist-packages (from requests>=2.19->qiskit-ibm-runtime) (3.3.2)\n",
            "Requirement already satisfied: idna<4,>=2.5 in /usr/local/lib/python3.10/dist-packages (from requests>=2.19->qiskit-ibm-runtime) (3.7)\n",
            "Requirement already satisfied: certifi>=2017.4.17 in /usr/local/lib/python3.10/dist-packages (from requests>=2.19->qiskit-ibm-runtime) (2024.7.4)\n",
            "Requirement already satisfied: cryptography>=1.3 in /usr/local/lib/python3.10/dist-packages (from requests-ntlm>=1.1.0->qiskit-ibm-runtime) (42.0.8)\n",
            "Collecting pyspnego>=0.4.0 (from requests-ntlm>=1.1.0->qiskit-ibm-runtime)\n",
            "  Downloading pyspnego-0.11.0-py3-none-any.whl (130 kB)\n",
            "\u001b[2K     \u001b[90m━━━━━━━━━━━━━━━━━━━━━━━━━━━━━━━━━━━━━━━━\u001b[0m \u001b[32m130.4/130.4 kB\u001b[0m \u001b[31m12.4 MB/s\u001b[0m eta \u001b[36m0:00:00\u001b[0m\n",
            "\u001b[?25hRequirement already satisfied: cffi>=1.12 in /usr/local/lib/python3.10/dist-packages (from cryptography>=1.3->requests-ntlm>=1.1.0->qiskit-ibm-runtime) (1.16.0)\n",
            "Collecting urllib3>=1.21.1 (from qiskit-ibm-runtime)\n",
            "  Downloading urllib3-2.2.2-py3-none-any.whl (121 kB)\n",
            "\u001b[2K     \u001b[90m━━━━━━━━━━━━━━━━━━━━━━━━━━━━━━━━━━━━━━━━\u001b[0m \u001b[32m121.4/121.4 kB\u001b[0m \u001b[31m10.6 MB/s\u001b[0m eta \u001b[36m0:00:00\u001b[0m\n",
            "\u001b[?25hCollecting PyJWT<3.0.0,>=2.8.0 (from ibm-cloud-sdk-core<4.0.0,>=3.20.3->ibm-platform-services>=0.22.6->qiskit-ibm-runtime)\n",
            "  Downloading PyJWT-2.8.0-py3-none-any.whl (22 kB)\n",
            "Requirement already satisfied: pbr!=2.1.0,>=2.0.0 in /usr/local/lib/python3.10/dist-packages (from stevedore>=3.0.0->qiskit>=1.1.0->qiskit-ibm-runtime) (6.0.0)\n",
            "Requirement already satisfied: mpmath<1.4,>=1.1.0 in /usr/local/lib/python3.10/dist-packages (from sympy>=1.3->qiskit>=1.1.0->qiskit-ibm-runtime) (1.3.0)\n",
            "Requirement already satisfied: pycparser in /usr/local/lib/python3.10/dist-packages (from cffi>=1.12->cryptography>=1.3->requests-ntlm>=1.1.0->qiskit-ibm-runtime) (2.22)\n",
            "Building wheels for collected packages: ibm-platform-services, ibm-cloud-sdk-core\n",
            "  Building wheel for ibm-platform-services (pyproject.toml) ... \u001b[?25l\u001b[?25hdone\n",
            "  Created wheel for ibm-platform-services: filename=ibm_platform_services-0.55.1-py3-none-any.whl size=339687 sha256=fb868b038a22afcc1e46af49634dfd8bac922eed8144a1b6e390ae82d2832230\n",
            "  Stored in directory: /root/.cache/pip/wheels/85/ac/f7/fcc0f6fb6fd090cb2c4f6f9fc55fd5aa36af0bfe1f44a9af71\n",
            "  Building wheel for ibm-cloud-sdk-core (pyproject.toml) ... \u001b[?25l\u001b[?25hdone\n",
            "  Created wheel for ibm-cloud-sdk-core: filename=ibm_cloud_sdk_core-3.20.3-py3-none-any.whl size=102558 sha256=493fbbd3110f13cf6acfa405d74af071d834990cc5b8cee49084296a726aad0b\n",
            "  Stored in directory: /root/.cache/pip/wheels/37/52/12/4283874e4e1f9be8c89f05de7971a7619fdffe8abf1ac989cd\n",
            "Successfully built ibm-platform-services ibm-cloud-sdk-core\n",
            "Installing collected packages: urllib3, PyJWT, pyspnego, ibm-cloud-sdk-core, requests-ntlm, ibm-platform-services, qiskit-ibm-runtime\n",
            "  Attempting uninstall: urllib3\n",
            "    Found existing installation: urllib3 2.0.7\n",
            "    Uninstalling urllib3-2.0.7:\n",
            "      Successfully uninstalled urllib3-2.0.7\n",
            "  Attempting uninstall: PyJWT\n",
            "    Found existing installation: PyJWT 2.3.0\n",
            "    Uninstalling PyJWT-2.3.0:\n",
            "      Successfully uninstalled PyJWT-2.3.0\n",
            "Successfully installed PyJWT-2.8.0 ibm-cloud-sdk-core-3.20.3 ibm-platform-services-0.55.1 pyspnego-0.11.0 qiskit-ibm-runtime-0.25.0 requests-ntlm-1.3.0 urllib3-2.2.2\n"
          ]
        }
      ],
      "source": [
        "pip install qiskit-ibm-runtime"
      ]
    },
    {
      "cell_type": "code",
      "execution_count": 3,
      "metadata": {
        "colab": {
          "base_uri": "https://localhost:8080/"
        },
        "id": "9cjrGMOK4TDD",
        "outputId": "ff1975e8-5896-4671-f25f-e9716dfd4dca"
      },
      "outputs": [
        {
          "output_type": "stream",
          "name": "stdout",
          "text": [
            "Collecting qiskit-aer\n",
            "  Downloading qiskit_aer-0.14.2-cp310-cp310-manylinux_2_17_x86_64.manylinux2014_x86_64.whl (12.4 MB)\n",
            "\u001b[2K     \u001b[90m━━━━━━━━━━━━━━━━━━━━━━━━━━━━━━━━━━━━━━━━\u001b[0m \u001b[32m12.4/12.4 MB\u001b[0m \u001b[31m19.8 MB/s\u001b[0m eta \u001b[36m0:00:00\u001b[0m\n",
            "\u001b[?25hRequirement already satisfied: qiskit>=0.45.2 in /usr/local/lib/python3.10/dist-packages (from qiskit-aer) (1.1.1)\n",
            "Requirement already satisfied: numpy>=1.16.3 in /usr/local/lib/python3.10/dist-packages (from qiskit-aer) (1.25.2)\n",
            "Requirement already satisfied: scipy>=1.0 in /usr/local/lib/python3.10/dist-packages (from qiskit-aer) (1.11.4)\n",
            "Requirement already satisfied: psutil>=5 in /usr/local/lib/python3.10/dist-packages (from qiskit-aer) (5.9.5)\n",
            "Requirement already satisfied: rustworkx>=0.14.0 in /usr/local/lib/python3.10/dist-packages (from qiskit>=0.45.2->qiskit-aer) (0.15.1)\n",
            "Requirement already satisfied: sympy>=1.3 in /usr/local/lib/python3.10/dist-packages (from qiskit>=0.45.2->qiskit-aer) (1.13.0)\n",
            "Requirement already satisfied: dill>=0.3 in /usr/local/lib/python3.10/dist-packages (from qiskit>=0.45.2->qiskit-aer) (0.3.8)\n",
            "Requirement already satisfied: python-dateutil>=2.8.0 in /usr/local/lib/python3.10/dist-packages (from qiskit>=0.45.2->qiskit-aer) (2.8.2)\n",
            "Requirement already satisfied: stevedore>=3.0.0 in /usr/local/lib/python3.10/dist-packages (from qiskit>=0.45.2->qiskit-aer) (5.2.0)\n",
            "Requirement already satisfied: typing-extensions in /usr/local/lib/python3.10/dist-packages (from qiskit>=0.45.2->qiskit-aer) (4.12.2)\n",
            "Requirement already satisfied: symengine>=0.11 in /usr/local/lib/python3.10/dist-packages (from qiskit>=0.45.2->qiskit-aer) (0.11.0)\n",
            "Requirement already satisfied: six>=1.5 in /usr/local/lib/python3.10/dist-packages (from python-dateutil>=2.8.0->qiskit>=0.45.2->qiskit-aer) (1.16.0)\n",
            "Requirement already satisfied: pbr!=2.1.0,>=2.0.0 in /usr/local/lib/python3.10/dist-packages (from stevedore>=3.0.0->qiskit>=0.45.2->qiskit-aer) (6.0.0)\n",
            "Requirement already satisfied: mpmath<1.4,>=1.1.0 in /usr/local/lib/python3.10/dist-packages (from sympy>=1.3->qiskit>=0.45.2->qiskit-aer) (1.3.0)\n",
            "Installing collected packages: qiskit-aer\n",
            "Successfully installed qiskit-aer-0.14.2\n"
          ]
        }
      ],
      "source": [
        "pip install qiskit-aer"
      ]
    },
    {
      "cell_type": "code",
      "execution_count": 4,
      "metadata": {
        "colab": {
          "base_uri": "https://localhost:8080/"
        },
        "id": "UcWYTeKa4b7w",
        "outputId": "3df6f495-484e-4f6b-e631-4cdb8d7438f6"
      },
      "outputs": [
        {
          "output_type": "stream",
          "name": "stdout",
          "text": [
            "Requirement already satisfied: scikit-learn in /usr/local/lib/python3.10/dist-packages (1.2.2)\n",
            "Requirement already satisfied: numpy>=1.17.3 in /usr/local/lib/python3.10/dist-packages (from scikit-learn) (1.25.2)\n",
            "Requirement already satisfied: scipy>=1.3.2 in /usr/local/lib/python3.10/dist-packages (from scikit-learn) (1.11.4)\n",
            "Requirement already satisfied: joblib>=1.1.1 in /usr/local/lib/python3.10/dist-packages (from scikit-learn) (1.4.2)\n",
            "Requirement already satisfied: threadpoolctl>=2.0.0 in /usr/local/lib/python3.10/dist-packages (from scikit-learn) (3.5.0)\n"
          ]
        }
      ],
      "source": [
        "pip install scikit-learn"
      ]
    },
    {
      "cell_type": "code",
      "execution_count": 5,
      "metadata": {
        "colab": {
          "base_uri": "https://localhost:8080/"
        },
        "id": "NYcjc3nO4e9h",
        "outputId": "b596ea68-2baa-41e5-ee6a-39619e485af0"
      },
      "outputs": [
        {
          "output_type": "stream",
          "name": "stdout",
          "text": [
            "Requirement already satisfied: qiskit in /usr/local/lib/python3.10/dist-packages (1.1.1)\n",
            "Collecting qiskit-machine-learning\n",
            "  Downloading qiskit_machine_learning-0.7.2-py3-none-any.whl (97 kB)\n",
            "\u001b[2K     \u001b[90m━━━━━━━━━━━━━━━━━━━━━━━━━━━━━━━━━━━━━━━━\u001b[0m \u001b[32m97.8/97.8 kB\u001b[0m \u001b[31m1.0 MB/s\u001b[0m eta \u001b[36m0:00:00\u001b[0m\n",
            "\u001b[?25hRequirement already satisfied: rustworkx>=0.14.0 in /usr/local/lib/python3.10/dist-packages (from qiskit) (0.15.1)\n",
            "Requirement already satisfied: numpy<3,>=1.17 in /usr/local/lib/python3.10/dist-packages (from qiskit) (1.25.2)\n",
            "Requirement already satisfied: scipy>=1.5 in /usr/local/lib/python3.10/dist-packages (from qiskit) (1.11.4)\n",
            "Requirement already satisfied: sympy>=1.3 in /usr/local/lib/python3.10/dist-packages (from qiskit) (1.13.0)\n",
            "Requirement already satisfied: dill>=0.3 in /usr/local/lib/python3.10/dist-packages (from qiskit) (0.3.8)\n",
            "Requirement already satisfied: python-dateutil>=2.8.0 in /usr/local/lib/python3.10/dist-packages (from qiskit) (2.8.2)\n",
            "Requirement already satisfied: stevedore>=3.0.0 in /usr/local/lib/python3.10/dist-packages (from qiskit) (5.2.0)\n",
            "Requirement already satisfied: typing-extensions in /usr/local/lib/python3.10/dist-packages (from qiskit) (4.12.2)\n",
            "Requirement already satisfied: symengine>=0.11 in /usr/local/lib/python3.10/dist-packages (from qiskit) (0.11.0)\n",
            "Collecting qiskit-algorithms>=0.2.0 (from qiskit-machine-learning)\n",
            "  Downloading qiskit_algorithms-0.3.0-py3-none-any.whl (308 kB)\n",
            "\u001b[2K     \u001b[90m━━━━━━━━━━━━━━━━━━━━━━━━━━━━━━━━━━━━━━━━\u001b[0m \u001b[32m308.6/308.6 kB\u001b[0m \u001b[31m6.5 MB/s\u001b[0m eta \u001b[36m0:00:00\u001b[0m\n",
            "\u001b[?25hRequirement already satisfied: psutil>=5 in /usr/local/lib/python3.10/dist-packages (from qiskit-machine-learning) (5.9.5)\n",
            "Requirement already satisfied: scikit-learn>=1.2.0 in /usr/local/lib/python3.10/dist-packages (from qiskit-machine-learning) (1.2.2)\n",
            "Collecting fastdtw (from qiskit-machine-learning)\n",
            "  Downloading fastdtw-0.3.4.tar.gz (133 kB)\n",
            "\u001b[2K     \u001b[90m━━━━━━━━━━━━━━━━━━━━━━━━━━━━━━━━━━━━━━━━\u001b[0m \u001b[32m133.4/133.4 kB\u001b[0m \u001b[31m13.5 MB/s\u001b[0m eta \u001b[36m0:00:00\u001b[0m\n",
            "\u001b[?25h  Preparing metadata (setup.py) ... \u001b[?25l\u001b[?25hdone\n",
            "Requirement already satisfied: setuptools>=40.1.0 in /usr/local/lib/python3.10/dist-packages (from qiskit-machine-learning) (67.7.2)\n",
            "Requirement already satisfied: six>=1.5 in /usr/local/lib/python3.10/dist-packages (from python-dateutil>=2.8.0->qiskit) (1.16.0)\n",
            "Requirement already satisfied: joblib>=1.1.1 in /usr/local/lib/python3.10/dist-packages (from scikit-learn>=1.2.0->qiskit-machine-learning) (1.4.2)\n",
            "Requirement already satisfied: threadpoolctl>=2.0.0 in /usr/local/lib/python3.10/dist-packages (from scikit-learn>=1.2.0->qiskit-machine-learning) (3.5.0)\n",
            "Requirement already satisfied: pbr!=2.1.0,>=2.0.0 in /usr/local/lib/python3.10/dist-packages (from stevedore>=3.0.0->qiskit) (6.0.0)\n",
            "Requirement already satisfied: mpmath<1.4,>=1.1.0 in /usr/local/lib/python3.10/dist-packages (from sympy>=1.3->qiskit) (1.3.0)\n",
            "Building wheels for collected packages: fastdtw\n",
            "  Building wheel for fastdtw (setup.py) ... \u001b[?25l\u001b[?25hdone\n",
            "  Created wheel for fastdtw: filename=fastdtw-0.3.4-cp310-cp310-linux_x86_64.whl size=512607 sha256=9f8130b6b79f7038045d4a8f2eda9b201e54370285ead751ccc9851ac0ce7e54\n",
            "  Stored in directory: /root/.cache/pip/wheels/73/c8/f7/c25448dab74c3acf4848bc25d513c736bb93910277e1528ef4\n",
            "Successfully built fastdtw\n",
            "Installing collected packages: fastdtw, qiskit-algorithms, qiskit-machine-learning\n",
            "Successfully installed fastdtw-0.3.4 qiskit-algorithms-0.3.0 qiskit-machine-learning-0.7.2\n"
          ]
        }
      ],
      "source": [
        "pip install qiskit qiskit-machine-learning"
      ]
    },
    {
      "cell_type": "code",
      "execution_count": 6,
      "metadata": {
        "colab": {
          "base_uri": "https://localhost:8080/"
        },
        "id": "R0hH2bsf4kV9",
        "outputId": "5046f039-7e76-4df3-d862-81c839c22dc3"
      },
      "outputs": [
        {
          "output_type": "stream",
          "name": "stdout",
          "text": [
            "Collecting pylatexenc\n",
            "  Downloading pylatexenc-2.10.tar.gz (162 kB)\n",
            "\u001b[2K     \u001b[90m━━━━━━━━━━━━━━━━━━━━━━━━━━━━━━━━━━━━━━━━\u001b[0m \u001b[32m162.6/162.6 kB\u001b[0m \u001b[31m1.7 MB/s\u001b[0m eta \u001b[36m0:00:00\u001b[0m\n",
            "\u001b[?25h  Preparing metadata (setup.py) ... \u001b[?25l\u001b[?25hdone\n",
            "Building wheels for collected packages: pylatexenc\n",
            "  Building wheel for pylatexenc (setup.py) ... \u001b[?25l\u001b[?25hdone\n",
            "  Created wheel for pylatexenc: filename=pylatexenc-2.10-py3-none-any.whl size=136816 sha256=b9b8ec9dd40a2b5193b60933e01e921fac21d76018c76b9811ba3c733ae9980b\n",
            "  Stored in directory: /root/.cache/pip/wheels/d3/31/8b/e09b0386afd80cfc556c00408c9aeea5c35c4d484a9c762fd5\n",
            "Successfully built pylatexenc\n",
            "Installing collected packages: pylatexenc\n",
            "Successfully installed pylatexenc-2.10\n"
          ]
        }
      ],
      "source": [
        "pip install pylatexenc"
      ]
    },
    {
      "cell_type": "code",
      "execution_count": 7,
      "metadata": {
        "id": "PTobnit-4mNg"
      },
      "outputs": [],
      "source": [
        "import torch\n",
        "from torch.autograd import Function\n",
        "import torch.optim as optim\n",
        "import torch.nn as nn"
      ]
    },
    {
      "cell_type": "code",
      "execution_count": 8,
      "metadata": {
        "id": "bLsuqOaE4szp"
      },
      "outputs": [],
      "source": [
        "from qiskit.circuit import Parameter,ControlledGate\n",
        "from qiskit_aer import AerSimulator\n",
        "import qiskit\n",
        "import numpy as np"
      ]
    },
    {
      "cell_type": "code",
      "execution_count": 9,
      "metadata": {
        "id": "6xlborE04wON"
      },
      "outputs": [],
      "source": [
        "from tqdm import tqdm"
      ]
    },
    {
      "cell_type": "code",
      "execution_count": 10,
      "metadata": {
        "id": "U7DTANmn4zp-"
      },
      "outputs": [],
      "source": [
        "from matplotlib import pyplot as plt\n",
        "%matplotlib inline"
      ]
    },
    {
      "cell_type": "code",
      "execution_count": 11,
      "metadata": {
        "id": "AX52NbUm4_0s"
      },
      "outputs": [],
      "source": [
        "aersim = AerSimulator()\n",
        "np.random.seed = 42\n",
        "\n",
        "NUM_QUBITS = 4\n",
        "NUM_SHOTS = 2000\n",
        "SHIFT = np.pi/4\n",
        "LEARNING_RATE = 0.01\n",
        "MOMENTUM = 0.5\n",
        "\n",
        "SIMULATOR = aersim"
      ]
    },
    {
      "cell_type": "code",
      "execution_count": 12,
      "metadata": {
        "colab": {
          "base_uri": "https://localhost:8080/"
        },
        "id": "6Ofe4dYQ5A9s",
        "outputId": "a8b3fac9-423f-4cb6-953b-ee6ad1d5d170"
      },
      "outputs": [
        {
          "output_type": "stream",
          "name": "stdout",
          "text": [
            "['0000', '0001', '0010', '0011', '0100', '0101', '0110', '0111', '1000', '1001', '1010', '1011', '1100', '1101', '1110', '1111']\n"
          ]
        }
      ],
      "source": [
        "import itertools\n",
        "def create_QC_OUTPUTS():\n",
        "    measurements = list(itertools.product([0, 1], repeat=NUM_QUBITS))\n",
        "    return [''.join([str(bit) for bit in measurement]) for measurement in measurements]\n",
        "\n",
        "QC_OUTPUTS = create_QC_OUTPUTS()\n",
        "print(QC_OUTPUTS)"
      ]
    },
    {
      "cell_type": "code",
      "execution_count": 13,
      "metadata": {
        "id": "pTzFs8Ev5DYv"
      },
      "outputs": [],
      "source": [
        "from qiskit import transpile, assemble"
      ]
    },
    {
      "cell_type": "code",
      "execution_count": 14,
      "metadata": {
        "id": "C2_A8eKH5Gh4"
      },
      "outputs": [],
      "source": [
        "class QiskitCircuit():\n",
        "\n",
        "    def __init__(self, n_qubits, backend, shots):\n",
        "        # --- Circuit definition ---\n",
        "        self.circuit = qiskit.QuantumCircuit(n_qubits)\n",
        "        self.n_qubits = n_qubits\n",
        "        self.thetas ={k : Parameter('Theta'+str(k))for k in range(self.n_qubits)}\n",
        "\n",
        "        all_qubits = [i for i in range(n_qubits)]\n",
        "        self.circuit.h(all_qubits)\n",
        "        self.circuit.barrier()\n",
        "        for k in range(n_qubits):\n",
        "            self.circuit.ry(self.thetas[k], k)\n",
        "\n",
        "#         # Apply controlled-unitary\n",
        "# #         uc=ry(self.theta4, 4).to_gate().control(4)\n",
        "# #         self.circuit.append(uc, [0,1,2,3,4])\n",
        "#         self.circuit.ry(self.theta4, 4).to_gate().control(4)\n",
        "\n",
        "        self.circuit.measure_all()\n",
        "        # ---------------------------\n",
        "\n",
        "        self.backend = backend\n",
        "        self.shots = shots\n",
        "\n",
        "#             check = perc\n",
        "#             for i in range(nr_qubits):\n",
        "#                 check *= (float(key[i])-1/2)*2\n",
        "#             expects += check\n",
        "\n",
        "    def N_qubit_expectation_Z(self,counts, shots, nr_qubits):\n",
        "        expects = np.zeros(len(QC_OUTPUTS))\n",
        "        for k in range(len(QC_OUTPUTS)):\n",
        "            key = QC_OUTPUTS[k]\n",
        "            perc = counts.get(key, 0) /shots\n",
        "            expects[k] = perc\n",
        "        return expects\n",
        "\n",
        "    def run(self, i):\n",
        "        params = i\n",
        "#         print('params = {}'.format(len(params)))\n",
        "        bound_params = {self.thetas[k]: params[k].item() for k in range(NUM_QUBITS)}\n",
        "        transpiled_circuit = transpile(self.circuit, self.backend)\n",
        "        qobj = assemble(transpiled_circuit, shots=self.shots, parameter_binds=[bound_params])\n",
        "\n",
        "\n",
        "        job_sim = self.backend.run(qobj)\n",
        "#\n",
        "        result_sim = job_sim.result()\n",
        "        counts = result_sim.get_counts()\n",
        "        return self.N_qubit_expectation_Z(counts,self.shots,NUM_QUBITS)"
      ]
    },
    {
      "cell_type": "code",
      "execution_count": 15,
      "metadata": {
        "colab": {
          "base_uri": "https://localhost:8080/",
          "height": 473
        },
        "id": "CO2wxthB5Jcl",
        "outputId": "1e613333-bde3-455f-eaca-70469f22a977"
      },
      "outputs": [
        {
          "output_type": "stream",
          "name": "stderr",
          "text": [
            "<ipython-input-14-4fb18b368040>:47: DeprecationWarning: Using a qobj for run() is deprecated as of qiskit-aer 0.14 and will be removed no sooner than 3 months from that release date. Transpiled circuits should now be passed directly using `backend.run(circuits, **run_options).\n",
            "  job_sim = self.backend.run(qobj)\n"
          ]
        },
        {
          "output_type": "stream",
          "name": "stdout",
          "text": [
            "Expected value for rotation [pi/4]: [0.     0.002  0.006  0.0155 0.0035 0.016  0.016  0.097  0.0025 0.016\n",
            " 0.0095 0.0985 0.0155 0.1015 0.0805 0.52  ]\n"
          ]
        },
        {
          "output_type": "execute_result",
          "data": {
            "text/plain": [
              "<Figure size 831.22x451.5 with 1 Axes>"
            ],
            "image/png": "[encoded data removed]"
          },
          "metadata": {},
          "execution_count": 15
        }
      ],
      "source": [
        "circuit = QiskitCircuit(NUM_QUBITS, aersim, NUM_SHOTS)\n",
        "print('Expected value for rotation [pi/4]: {}'.format(circuit.run(torch.Tensor([np.pi/4]*NUM_QUBITS))))\n",
        "circuit.circuit.draw(output='mpl')"
      ]
    },
    {
      "cell_type": "code",
      "execution_count": 16,
      "metadata": {
        "id": "ra8VHRCI5bFf"
      },
      "outputs": [],
      "source": [
        "class TorchCircuit(Function):\n",
        "\n",
        "    @staticmethod\n",
        "    def forward(ctx, i):\n",
        "        if not hasattr(ctx, 'QiskitCirc'):\n",
        "            ctx.QiskitCirc = QiskitCircuit(NUM_QUBITS, SIMULATOR, shots=NUM_SHOTS)\n",
        "\n",
        "        exp_value = ctx.QiskitCirc.run(i)\n",
        "\n",
        "        result = torch.tensor([exp_value])\n",
        "\n",
        "\n",
        "        ctx.save_for_backward(result, i)\n",
        "\n",
        "        return result\n",
        "\n",
        "    @staticmethod\n",
        "    def backward(ctx, grad_output):\n",
        "\n",
        "        forward_tensor, i = ctx.saved_tensors\n",
        "#         print('forward_tensor = {}'.format(forward_tensor))\n",
        "        input_numbers = i\n",
        "#         print('input_numbers = {}'.format(input_numbers))\n",
        "        gradients = torch.Tensor()\n",
        "\n",
        "        for k in range(NUM_QUBITS):\n",
        "            shift_right = input_numbers.detach().clone()\n",
        "            shift_right[k] = shift_right[k] + SHIFT\n",
        "            shift_left = input_numbers.detach().clone()\n",
        "            shift_left[k] = shift_left[k] - SHIFT\n",
        "\n",
        "#             print('shift_right = {}, shift_left = {}'.format(shift_right, shift_left))\n",
        "\n",
        "            expectation_right = ctx.QiskitCirc.run(shift_right)\n",
        "            expectation_left  = ctx.QiskitCirc.run(shift_left)\n",
        "#             print('expectation_right = {}, \\nexpectation_left = {}'.format(expectation_right, expectation_left))\n",
        "\n",
        "            gradient = torch.tensor([expectation_right]) - torch.tensor([expectation_left])\n",
        "            # rescale gradient\n",
        "#             gradient = gradient / torch.norm(gradient)\n",
        "#             print('gradient for k={}: {}'.format(k, gradient))\n",
        "            gradients = torch.cat((gradients, gradient.float()))\n",
        "\n",
        "        result = torch.Tensor(gradients)\n",
        "#         print('gradients = {}'.format(result))\n",
        "#         print('grad_output = {}'.format(grad_output))\n",
        "\n",
        "        return (result.float() * grad_output.float()).T"
      ]
    },
    {
      "cell_type": "code",
      "execution_count": 17,
      "metadata": {
        "colab": {
          "base_uri": "https://localhost:8080/"
        },
        "id": "1yQiez9h5m5x",
        "outputId": "ec3695e2-9bbb-435e-cbeb-4a860b69d6f1"
      },
      "outputs": [
        {
          "output_type": "stream",
          "name": "stderr",
          "text": [
            "<ipython-input-14-4fb18b368040>:47: DeprecationWarning: Using a qobj for run() is deprecated as of qiskit-aer 0.14 and will be removed no sooner than 3 months from that release date. Transpiled circuits should now be passed directly using `backend.run(circuits, **run_options).\n",
            "  job_sim = self.backend.run(qobj)\n",
            "<ipython-input-16-fd7b3a401f06>:10: UserWarning: Creating a tensor from a list of numpy.ndarrays is extremely slow. Please consider converting the list to a single numpy.ndarray with numpy.array() before converting to a tensor. (Triggered internally at ../torch/csrc/utils/tensor_new.cpp:274.)\n",
            "  result = torch.tensor([exp_value])\n"
          ]
        },
        {
          "output_type": "stream",
          "name": "stdout",
          "text": [
            "y1 after quantum layer: tensor([[0.0000, 0.0035, 0.0025, 0.0155, 0.0025, 0.0175, 0.0165, 0.0860, 0.0015,\n",
            "         0.0135, 0.0170, 0.1055, 0.0195, 0.1000, 0.0935, 0.5055]],\n",
            "       dtype=torch.float64, grad_fn=<TorchCircuitBackward>)\n",
            "x.grad = tensor([-0.0533, -0.0076, -0.0762,  0.0968])\n"
          ]
        }
      ],
      "source": [
        "x = torch.tensor([np.pi/4]*NUM_QUBITS, requires_grad=True)\n",
        "\n",
        "qc = TorchCircuit.apply\n",
        "y1 = qc(x)\n",
        "print('y1 after quantum layer: {}'.format(y1))\n",
        "y1 = nn.Linear(2**NUM_QUBITS,1)(y1.float())\n",
        "y1.backward()\n",
        "print('x.grad = {}'.format(x.grad))"
      ]
    },
    {
      "cell_type": "code",
      "execution_count": 18,
      "metadata": {
        "colab": {
          "base_uri": "https://localhost:8080/",
          "height": 519
        },
        "id": "O2U-st205rwR",
        "outputId": "935e8e90-1c32-48d5-de53-ad46020d2618"
      },
      "outputs": [
        {
          "output_type": "stream",
          "name": "stderr",
          "text": [
            "\r  0%|          | 0/100 [00:00<?, ?it/s]<ipython-input-14-4fb18b368040>:47: DeprecationWarning: Using a qobj for run() is deprecated as of qiskit-aer 0.14 and will be removed no sooner than 3 months from that release date. Transpiled circuits should now be passed directly using `backend.run(circuits, **run_options).\n",
            "  job_sim = self.backend.run(qobj)\n",
            "100%|██████████| 100/100 [00:31<00:00,  3.14it/s]\n"
          ]
        },
        {
          "output_type": "execute_result",
          "data": {
            "text/plain": [
              "[<matplotlib.lines.Line2D at 0x7ccbd39a2aa0>]"
            ]
          },
          "metadata": {},
          "execution_count": 18
        },
        {
          "output_type": "display_data",
          "data": {
            "text/plain": [
              "<Figure size 640x480 with 1 Axes>"
            ],
            "image/png": "[encoded data removed]"
          },
          "metadata": {}
        }
      ],
      "source": [
        "qc = TorchCircuit.apply\n",
        "\n",
        "def cost(x):\n",
        "    target = -1\n",
        "    expval = qc(x)[0]\n",
        "    # simple linear layer: average all outputs of quantum layer\n",
        "#     print(expval)\n",
        "    val = sum([(i+1)*expval[i] for i in range(2**NUM_QUBITS)]) / 2**NUM_QUBITS\n",
        "#     print(val)\n",
        "    return torch.abs(val - target) ** 2, expval\n",
        "\n",
        "x = torch.tensor([-np.pi/4]*NUM_QUBITS, requires_grad=True)\n",
        "opt = torch.optim.Adam([x], lr=0.1)\n",
        "\n",
        "num_epoch = 100\n",
        "\n",
        "loss_list = []\n",
        "expval_list = []\n",
        "\n",
        "for i in tqdm(range(num_epoch)):\n",
        "# for i in range(num_epoch):\n",
        "    opt.zero_grad()\n",
        "    loss, expval = cost(x)\n",
        "    loss.backward()\n",
        "    opt.step()\n",
        "    loss_list.append(loss.item())\n",
        "    expval_list.append(expval)\n",
        "\n",
        "plt.plot(loss_list)"
      ]
    },
    {
      "cell_type": "code",
      "execution_count": 19,
      "metadata": {
        "id": "2z2tMQP96Oaw"
      },
      "outputs": [],
      "source": [
        "import torch\n",
        "import torch.nn as nn\n",
        "import torch.nn.functional as F\n",
        "import torch.optim as optim"
      ]
    },
    {
      "cell_type": "code",
      "execution_count": 26,
      "metadata": {
        "id": "x22o8Fxn6qYO",
        "colab": {
          "base_uri": "https://localhost:8080/"
        },
        "outputId": "4880224b-16a3-42de-8d8d-ea58370781ac"
      },
      "outputs": [
        {
          "output_type": "stream",
          "name": "stdout",
          "text": [
            "tensor([[ 2.0000, 75.0000, 64.0000, 24.0000, 55.0000, 29.7000,  0.3700, 33.0000]]) tensor([0])\n"
          ]
        }
      ],
      "source": [
        "import numpy as np\n",
        "import pandas as pd\n",
        "import torch\n",
        "from torch.utils.data import Dataset, DataLoader\n",
        "\n",
        "# Load the diabetes dataset\n",
        "df = pd.read_csv('diabetes.csv')\n",
        "\n",
        "# Concentrating on the first 150 samples per class\n",
        "n_samples = 150\n",
        "\n",
        "# Assuming the target variable is in the 'Outcome' column and features are in the other columns\n",
        "class_counts = df['Outcome'].value_counts()\n",
        "\n",
        "# Balancing the dataset by selecting the first n_samples from each class\n",
        "balanced_df = pd.concat([df[df['Outcome'] == i].iloc[:n_samples] for i in range(len(class_counts))])\n",
        "\n",
        "class DiabetesDataset(Dataset):\n",
        "    def __init__(self, dataframe):\n",
        "        self.data = dataframe.drop(columns=['Outcome']).values\n",
        "        self.targets = dataframe['Outcome'].values\n",
        "\n",
        "    def __len__(self):\n",
        "        return len(self.targets)\n",
        "\n",
        "    def __getitem__(self, idx):\n",
        "        x = self.data[idx]\n",
        "        y = self.targets[idx]\n",
        "        return torch.tensor(x, dtype=torch.float32), torch.tensor(y, dtype=torch.long)\n",
        "\n",
        "# Create the dataset\n",
        "dataset = DiabetesDataset(balanced_df)\n",
        "\n",
        "# Create the DataLoader\n",
        "train_loader = DataLoader(dataset, batch_size=1, shuffle=True, pin_memory=True)\n",
        "\n",
        "# Now you can iterate over the DataLoader\n",
        "for inputs, labels in train_loader:\n",
        "    print(inputs, labels)\n",
        "    # Do your training here\n",
        "    break\n"
      ]
    },
    {
      "cell_type": "code",
      "execution_count": 28,
      "metadata": {
        "id": "d4Rka8x-78T6",
        "colab": {
          "base_uri": "https://localhost:8080/"
        },
        "outputId": "37cb6c32-cbb4-4573-f15a-75679bee897a"
      },
      "outputs": [
        {
          "output_type": "stream",
          "name": "stdout",
          "text": [
            "Epoch [1/20], Loss: 2.4533\n",
            "Epoch [2/20], Loss: 2.5634\n",
            "Epoch [3/20], Loss: 1.0878\n",
            "Epoch [4/20], Loss: 1.1831\n",
            "Epoch [5/20], Loss: 0.8483\n",
            "Epoch [6/20], Loss: 1.0671\n",
            "Epoch [7/20], Loss: 1.1597\n",
            "Epoch [8/20], Loss: 0.6255\n",
            "Epoch [9/20], Loss: 0.7431\n",
            "Epoch [10/20], Loss: 0.6784\n",
            "Epoch [11/20], Loss: 0.7560\n",
            "Epoch [12/20], Loss: 0.8010\n",
            "Epoch [13/20], Loss: 0.4802\n",
            "Epoch [14/20], Loss: 0.9550\n",
            "Epoch [15/20], Loss: 0.8734\n",
            "Epoch [16/20], Loss: 0.7137\n",
            "Epoch [17/20], Loss: 1.0391\n",
            "Epoch [18/20], Loss: 0.6327\n",
            "Epoch [19/20], Loss: 0.4646\n",
            "Epoch [20/20], Loss: 0.4471\n",
            "Training finished.\n"
          ]
        }
      ],
      "source": [
        "import numpy as np\n",
        "import pandas as pd\n",
        "import torch\n",
        "from torch.utils.data import Dataset, DataLoader\n",
        "import torch.nn as nn\n",
        "import torch.optim as optim\n",
        "\n",
        "# Load the diabetes dataset\n",
        "df = pd.read_csv('diabetes.csv')\n",
        "\n",
        "# Concentrating on the first 150 samples per class\n",
        "n_samples = 150\n",
        "\n",
        "# Assuming the target variable is in the 'Outcome' column and features are in the other columns\n",
        "class_counts = df['Outcome'].value_counts()\n",
        "\n",
        "# Balancing the dataset by selecting the first n_samples from each class\n",
        "balanced_df = pd.concat([df[df['Outcome'] == i].iloc[:n_samples] for i in range(len(class_counts))])\n",
        "\n",
        "class DiabetesDataset(Dataset):\n",
        "    def __init__(self, dataframe):\n",
        "        self.data = dataframe.drop(columns=['Outcome']).values\n",
        "        self.targets = dataframe['Outcome'].values\n",
        "\n",
        "    def __len__(self):\n",
        "        return len(self.targets)\n",
        "\n",
        "    def __getitem__(self, idx):\n",
        "        x = self.data[idx]\n",
        "        y = self.targets[idx]\n",
        "        return torch.tensor(x, dtype=torch.float32), torch.tensor(y, dtype=torch.long)\n",
        "\n",
        "# Create the dataset\n",
        "dataset = DiabetesDataset(balanced_df)\n",
        "\n",
        "# Create the DataLoader\n",
        "train_loader = DataLoader(dataset, batch_size=32, shuffle=True, pin_memory=True)\n",
        "\n",
        "# Define the neural network model\n",
        "class SimpleNN(nn.Module):\n",
        "    def __init__(self, input_size, hidden_size, output_size):\n",
        "        super(SimpleNN, self).__init__()\n",
        "        self.fc1 = nn.Linear(input_size, hidden_size)\n",
        "        self.relu = nn.ReLU()\n",
        "        self.fc2 = nn.Linear(hidden_size, output_size)\n",
        "\n",
        "    def forward(self, x):\n",
        "        out = self.fc1(x)\n",
        "        out = self.relu(out)\n",
        "        out = self.fc2(out)\n",
        "        return out\n",
        "\n",
        "# Set device\n",
        "device = torch.device('cuda' if torch.cuda.is_available() else 'cpu')\n",
        "\n",
        "# Hyperparameters\n",
        "input_size = balanced_df.shape[1] - 1  # Number of features\n",
        "hidden_size = 64\n",
        "output_size = len(class_counts)  # Number of classes\n",
        "learning_rate = 0.001\n",
        "num_epochs = 20\n",
        "\n",
        "# Initialize the model, loss function, and optimizer\n",
        "model = SimpleNN(input_size, hidden_size, output_size).to(device)\n",
        "criterion = nn.CrossEntropyLoss()\n",
        "optimizer = optim.Adam(model.parameters(), lr=learning_rate)\n",
        "\n",
        "# Training loop\n",
        "for epoch in range(num_epochs):\n",
        "    for inputs, labels in train_loader:\n",
        "        inputs = inputs.to(device)\n",
        "        labels = labels.to(device)\n",
        "\n",
        "        # Forward pass\n",
        "        outputs = model(inputs)\n",
        "        loss = criterion(outputs, labels)\n",
        "\n",
        "        # Backward pass and optimization\n",
        "        optimizer.zero_grad()\n",
        "        loss.backward()\n",
        "        optimizer.step()\n",
        "\n",
        "    print(f'Epoch [{epoch+1}/{num_epochs}], Loss: {loss.item():.4f}')\n",
        "\n",
        "print('Training finished.')\n",
        "\n",
        "# Save the model\n",
        "torch.save(model.state_dict(), 'diabetes_model.pth')\n"
      ]
    },
    {
      "cell_type": "code",
      "source": [
        "import numpy as np\n",
        "import pandas as pd\n",
        "import torch\n",
        "from torch.utils.data import Dataset, DataLoader\n",
        "import torch.nn as nn\n",
        "import torch.optim as optim\n",
        "from sklearn.model_selection import train_test_split\n",
        "from sklearn.metrics import accuracy_score, classification_report\n",
        "\n",
        "# Load the diabetes dataset\n",
        "df = pd.read_csv('diabetes.csv')\n",
        "\n",
        "# Concentrating on the first 150 samples per class\n",
        "n_samples = 150\n",
        "\n",
        "# Assuming the target variable is in the 'Outcome' column and features are in the other columns\n",
        "class_counts = df['Outcome'].value_counts()\n",
        "\n",
        "# Balancing the dataset by selecting the first n_samples from each class\n",
        "balanced_df = pd.concat([df[df['Outcome'] == i].iloc[:n_samples] for i in range(len(class_counts))])\n",
        "\n",
        "class DiabetesDataset(Dataset):\n",
        "    def __init__(self, dataframe):\n",
        "        self.data = dataframe.drop(columns=['Outcome']).values\n",
        "        self.targets = dataframe['Outcome'].values\n",
        "\n",
        "    def __len__(self):\n",
        "        return len(self.targets)\n",
        "\n",
        "    def __getitem__(self, idx):\n",
        "        x = self.data[idx]\n",
        "        y = self.targets[idx]\n",
        "        return torch.tensor(x, dtype=torch.float32), torch.tensor(y, dtype=torch.long)\n",
        "\n",
        "# Split the dataset into training and testing sets\n",
        "train_df, test_df = train_test_split(balanced_df, test_size=0.2, random_state=42, stratify=balanced_df['Outcome'])\n",
        "\n",
        "# Create the training and test datasets\n",
        "train_dataset = DiabetesDataset(train_df)\n",
        "test_dataset = DiabetesDataset(test_df)\n",
        "\n",
        "# Create the DataLoader for training and testing\n",
        "train_loader = DataLoader(train_dataset, batch_size=32, shuffle=True, pin_memory=True)\n",
        "test_loader = DataLoader(test_dataset, batch_size=32, shuffle=False, pin_memory=True)\n",
        "\n",
        "# Define the neural network model\n",
        "class SimpleNN(nn.Module):\n",
        "    def __init__(self, input_size, hidden_size, output_size):\n",
        "        super(SimpleNN, self).__init__()\n",
        "        self.fc1 = nn.Linear(input_size, hidden_size)\n",
        "        self.relu = nn.ReLU()\n",
        "        self.fc2 = nn.Linear(hidden_size, output_size)\n",
        "\n",
        "    def forward(self, x):\n",
        "        out = self.fc1(x)\n",
        "        out = self.relu(out)\n",
        "        out = self.fc2(out)\n",
        "        return out\n",
        "\n",
        "# Set device\n",
        "device = torch.device('cuda' if torch.cuda.is_available() else 'cpu')\n",
        "\n",
        "# Hyperparameters\n",
        "input_size = balanced_df.shape[1] - 1  # Number of features\n",
        "hidden_size = 64\n",
        "output_size = len(class_counts)  # Number of classes\n",
        "learning_rate = 0.001\n",
        "num_epochs = 20\n",
        "\n",
        "# Initialize the model, loss function, and optimizer\n",
        "model = SimpleNN(input_size, hidden_size, output_size).to(device)\n",
        "criterion = nn.CrossEntropyLoss()\n",
        "optimizer = optim.Adam(model.parameters(), lr=learning_rate)\n",
        "\n",
        "# Training loop\n",
        "for epoch in range(num_epochs):\n",
        "    model.train()  # Set the model to training mode\n",
        "    for inputs, labels in train_loader:\n",
        "        inputs = inputs.to(device)\n",
        "        labels = labels.to(device)\n",
        "\n",
        "        # Forward pass\n",
        "        outputs = model(inputs)\n",
        "        loss = criterion(outputs, labels)\n",
        "\n",
        "        # Backward pass and optimization\n",
        "        optimizer.zero_grad()\n",
        "        loss.backward()\n",
        "        optimizer.step()\n",
        "\n",
        "    print(f'Epoch [{epoch+1}/{num_epochs}], Loss: {loss.item():.4f}')\n",
        "\n",
        "print('Training finished.')\n",
        "\n",
        "# Save the model\n",
        "torch.save(model.state_dict(), 'diabetes_model.pth')\n",
        "\n",
        "# Evaluation on the test set\n",
        "model.eval()  # Set the model to evaluation mode\n",
        "all_preds = []\n",
        "all_labels = []\n",
        "\n",
        "with torch.no_grad():\n",
        "    for inputs, labels in test_loader:\n",
        "        inputs = inputs.to(device)\n",
        "        labels = labels.to(device)\n",
        "\n",
        "        outputs = model(inputs)\n",
        "        _, predicted = torch.max(outputs.data, 1)\n",
        "\n",
        "        all_preds.extend(predicted.cpu().numpy())\n",
        "        all_labels.extend(labels.cpu().numpy())\n",
        "\n",
        "# Calculate accuracy\n",
        "accuracy = accuracy_score(all_labels, all_preds)\n",
        "print(f'Accuracy on test set: {accuracy:.4f}')\n",
        "\n",
        "# Print classification report\n",
        "print(classification_report(all_labels, all_preds))\n"
      ],
      "metadata": {
        "colab": {
          "base_uri": "https://localhost:8080/"
        },
        "id": "iJqbCZWsBDjm",
        "outputId": "ae7d9d8f-9049-4e32-9b48-1daed6cbecf8"
      },
      "execution_count": 31,
      "outputs": [
        {
          "output_type": "stream",
          "name": "stdout",
          "text": [
            "Epoch [1/20], Loss: 3.7522\n",
            "Epoch [2/20], Loss: 3.3886\n",
            "Epoch [3/20], Loss: 1.4455\n",
            "Epoch [4/20], Loss: 1.0428\n",
            "Epoch [5/20], Loss: 0.7453\n",
            "Epoch [6/20], Loss: 0.8096\n",
            "Epoch [7/20], Loss: 1.0087\n",
            "Epoch [8/20], Loss: 0.6540\n",
            "Epoch [9/20], Loss: 0.7063\n",
            "Epoch [10/20], Loss: 0.7529\n",
            "Epoch [11/20], Loss: 0.5325\n",
            "Epoch [12/20], Loss: 0.8571\n",
            "Epoch [13/20], Loss: 0.7866\n",
            "Epoch [14/20], Loss: 0.9933\n",
            "Epoch [15/20], Loss: 0.8325\n",
            "Epoch [16/20], Loss: 0.6663\n",
            "Epoch [17/20], Loss: 0.4728\n",
            "Epoch [18/20], Loss: 0.9955\n",
            "Epoch [19/20], Loss: 0.5328\n",
            "Epoch [20/20], Loss: 0.8333\n",
            "Training finished.\n",
            "Accuracy on test set: 0.6833\n",
            "              precision    recall  f1-score   support\n",
            "\n",
            "           0       0.63      0.87      0.73        30\n",
            "           1       0.79      0.50      0.61        30\n",
            "\n",
            "    accuracy                           0.68        60\n",
            "   macro avg       0.71      0.68      0.67        60\n",
            "weighted avg       0.71      0.68      0.67        60\n",
            "\n"
          ]
        }
      ]
    },
    {
      "cell_type": "code",
      "execution_count": 32,
      "metadata": {
        "id": "bPRqHVIY8Acn"
      },
      "outputs": [],
      "source": [
        "class Net(nn.Module):\n",
        "    def __init__(self):\n",
        "        super(Net, self).__init__()\n",
        "        self.conv1 = nn.Conv2d(1, 10, kernel_size=5)\n",
        "        self.conv2 = nn.Conv2d(10, 20, kernel_size=5)\n",
        "        self.conv2_drop = nn.Dropout2d()\n",
        "        self.fc1 = nn.Linear(320, 50)\n",
        "        self.fc2 = nn.Linear(50, NUM_QUBITS)\n",
        "        self.qc = TorchCircuit.apply\n",
        "        self.qcsim = nn.Linear(NUM_QUBITS, 2)\n",
        "        self.fc3 = nn.Linear(2, 4)\n",
        "\n",
        "    def forward(self, x):\n",
        "        x = F.relu(F.max_pool2d(self.conv1(x), 2))\n",
        "        x = F.relu(F.max_pool2d(self.conv2_drop(self.conv2(x)), 2))\n",
        "        x = x.view(-1, 320)\n",
        "        x = F.relu(self.fc1(x))\n",
        "        x = F.dropout(x, training=self.training)\n",
        "        x = self.fc2(x)\n",
        "        x = np.pi*torch.tanh(x)\n",
        "\n",
        "#         print('params to QC: {}'.format(x))\n",
        "\n",
        "        MODE = 'QC' # 'QC' or 'QC_sim'\n",
        "\n",
        "        if MODE == 'QC':\n",
        "            x = qc(x[0]) # QUANTUM LAYER\n",
        "\n",
        "        else:\n",
        "            x = self.qcsim(x)\n",
        "\n",
        "#         print('output of QC = {}'.format(x))\n",
        "\n",
        "#         # softmax rather than sigmoid\n",
        "#         x = self.fc3(x.float())\n",
        "#         print('output of Linear(1, 2): {}'.format(x))\n",
        "#         x = F.softmax(x, 1)\n",
        "\n",
        "        x = torch.sigmoid(x)\n",
        "        x = torch.cat((x, 1-x), -1)\n",
        "#         print(x)\n",
        "        return x\n",
        "\n",
        "\n",
        "    def predict(self, x):\n",
        "        # apply softmax\n",
        "        pred = self.forward(x)\n",
        "#         print(pred)\n",
        "        ans = torch.argmax(pred[0]).item()\n",
        "        return torch.tensor(ans)\n",
        "\n",
        "network = Net()#.to(device)\n",
        "optimizer = optim.Adam(network.parameters(), lr=0.001)\n",
        "\n",
        "# optimizer = optim.Adam(network.parameters(), lr=learning_rate)"
      ]
    },
    {
      "cell_type": "code",
      "execution_count": 34,
      "metadata": {
        "colab": {
          "base_uri": "https://localhost:8080/"
        },
        "id": "MEWYiSCV8GZh",
        "outputId": "3d756e76-1716-4575-8b75-5d50ad2e0086"
      },
      "outputs": [
        {
          "output_type": "stream",
          "name": "stdout",
          "text": [
            "Epoch [1/15], Loss: 2.2082\n",
            "Epoch [2/15], Loss: 1.0081\n",
            "Epoch [3/15], Loss: 1.0625\n",
            "Epoch [4/15], Loss: 0.8952\n",
            "Epoch [5/15], Loss: 0.8975\n",
            "Epoch [6/15], Loss: 0.8543\n",
            "Epoch [7/15], Loss: 0.7600\n",
            "Epoch [8/15], Loss: 0.7142\n",
            "Epoch [9/15], Loss: 0.7193\n",
            "Epoch [10/15], Loss: 0.7820\n",
            "Epoch [11/15], Loss: 0.8261\n",
            "Epoch [12/15], Loss: 0.7309\n",
            "Epoch [13/15], Loss: 0.6475\n",
            "Epoch [14/15], Loss: 0.6244\n",
            "Epoch [15/15], Loss: 0.6315\n",
            "Training finished.\n",
            "Accuracy on test set: 0.6333\n",
            "              precision    recall  f1-score   support\n",
            "\n",
            "           0       0.72      0.43      0.54        30\n",
            "           1       0.60      0.83      0.69        30\n",
            "\n",
            "    accuracy                           0.63        60\n",
            "   macro avg       0.66      0.63      0.62        60\n",
            "weighted avg       0.66      0.63      0.62        60\n",
            "\n"
          ]
        }
      ],
      "source": [
        "import numpy as np\n",
        "import pandas as pd\n",
        "import torch\n",
        "from torch.utils.data import Dataset, DataLoader\n",
        "import torch.nn as nn\n",
        "import torch.optim as optim\n",
        "from sklearn.model_selection import train_test_split\n",
        "from sklearn.metrics import accuracy_score, classification_report\n",
        "\n",
        "# Load the diabetes dataset\n",
        "df = pd.read_csv('diabetes.csv')\n",
        "\n",
        "# Concentrating on the first 150 samples per class\n",
        "n_samples = 150\n",
        "\n",
        "# Assuming the target variable is in the 'Outcome' column and features are in the other columns\n",
        "class_counts = df['Outcome'].value_counts()\n",
        "\n",
        "# Balancing the dataset by selecting the first n_samples from each class\n",
        "balanced_df = pd.concat([df[df['Outcome'] == i].iloc[:n_samples] for i in range(len(class_counts))])\n",
        "\n",
        "class DiabetesDataset(Dataset):\n",
        "    def __init__(self, dataframe):\n",
        "        self.data = dataframe.drop(columns=['Outcome']).values\n",
        "        self.targets = dataframe['Outcome'].values\n",
        "\n",
        "    def __len__(self):\n",
        "        return len(self.targets)\n",
        "\n",
        "    def __getitem__(self, idx):\n",
        "        x = self.data[idx]\n",
        "        y = self.targets[idx]\n",
        "        return torch.tensor(x, dtype=torch.float32), torch.tensor(y, dtype=torch.long)\n",
        "\n",
        "# Split the dataset into training and testing sets\n",
        "train_df, test_df = train_test_split(balanced_df, test_size=0.2, random_state=42, stratify=balanced_df['Outcome'])\n",
        "\n",
        "# Create the training and test datasets\n",
        "train_dataset = DiabetesDataset(train_df)\n",
        "test_dataset = DiabetesDataset(test_df)\n",
        "\n",
        "# Create the DataLoader for training and testing\n",
        "train_loader = DataLoader(train_dataset, batch_size=32, shuffle=True, pin_memory=True)\n",
        "test_loader = DataLoader(test_dataset, batch_size=32, shuffle=False, pin_memory=True)\n",
        "\n",
        "# Define the neural network model\n",
        "class SimpleNN(nn.Module):\n",
        "    def __init__(self, input_size, hidden_size, output_size):\n",
        "        super(SimpleNN, self).__init__()\n",
        "        self.fc1 = nn.Linear(input_size, hidden_size)\n",
        "        self.relu = nn.ReLU()\n",
        "        self.fc2 = nn.Linear(hidden_size, output_size)\n",
        "\n",
        "    def forward(self, x):\n",
        "        out = self.fc1(x)\n",
        "        out = self.relu(out)\n",
        "        out = self.fc2(out)\n",
        "        return out\n",
        "\n",
        "# Set device\n",
        "device = torch.device('cuda' if torch.cuda.is_available() else 'cpu')\n",
        "\n",
        "# Hyperparameters\n",
        "input_size = balanced_df.shape[1] - 1  # Number of features\n",
        "hidden_size = 64\n",
        "output_size = len(class_counts)  # Number of classes\n",
        "learning_rate = 0.001\n",
        "num_epochs = 15\n",
        "\n",
        "# Initialize the model, loss function, and optimizer\n",
        "model = SimpleNN(input_size, hidden_size, output_size).to(device)\n",
        "criterion = nn.CrossEntropyLoss()\n",
        "optimizer = optim.Adam(model.parameters(), lr=learning_rate)\n",
        "\n",
        "# Training loop\n",
        "loss_list = []\n",
        "\n",
        "for epoch in range(num_epochs):\n",
        "    model.train()  # Set the model to training mode\n",
        "    total_loss = []\n",
        "    for batch_idx, (data, target) in enumerate(train_loader):\n",
        "        data, target = data.to(device), target.to(device)\n",
        "\n",
        "        optimizer.zero_grad()\n",
        "        # Forward pass\n",
        "        output = model(data)\n",
        "        # Calculating loss\n",
        "        loss = criterion(output, target)\n",
        "        # Backward pass\n",
        "        loss.backward()\n",
        "        # Optimize the weights\n",
        "        optimizer.step()\n",
        "\n",
        "        total_loss.append(loss.item())\n",
        "\n",
        "    loss_list.append(sum(total_loss) / len(total_loss))\n",
        "    print(f'Epoch [{epoch+1}/{num_epochs}], Loss: {loss_list[-1]:.4f}')\n",
        "\n",
        "print('Training finished.')\n",
        "\n",
        "# Save the model\n",
        "torch.save(model.state_dict(), 'diabetes_model.pth')\n",
        "\n",
        "# Evaluation on the test set\n",
        "model.eval()  # Set the model to evaluation mode\n",
        "all_preds = []\n",
        "all_labels = []\n",
        "\n",
        "with torch.no_grad():\n",
        "    for inputs, labels in test_loader:\n",
        "        inputs, labels = inputs.to(device), labels.to(device)\n",
        "\n",
        "        outputs = model(inputs)\n",
        "        _, predicted = torch.max(outputs.data, 1)\n",
        "\n",
        "        all_preds.extend(predicted.cpu().numpy())\n",
        "        all_labels.extend(labels.cpu().numpy())\n",
        "\n",
        "# Calculate accuracy\n",
        "accuracy = accuracy_score(all_labels, all_preds)\n",
        "print(f'Accuracy on test set: {accuracy:.4f}')\n",
        "\n",
        "# Print classification report\n",
        "print(classification_report(all_labels, all_preds))\n"
      ]
    },
    {
      "cell_type": "code",
      "execution_count": 35,
      "metadata": {
        "colab": {
          "base_uri": "https://localhost:8080/",
          "height": 489
        },
        "id": "jO2SVAoh-XQG",
        "outputId": "24e780d7-695a-4e5b-f2b8-171f0df40dc8"
      },
      "outputs": [
        {
          "output_type": "execute_result",
          "data": {
            "text/plain": [
              "Text(0, 0.5, 'Cross Entropy Loss')"
            ]
          },
          "metadata": {},
          "execution_count": 35
        },
        {
          "output_type": "display_data",
          "data": {
            "text/plain": [
              "<Figure size 640x480 with 1 Axes>"
            ],
            "image/png": "[encoded data removed]"
          },
          "metadata": {}
        }
      ],
      "source": [
        "plt.plot(loss_list)\n",
        "plt.title('Hybrid NN Training Convergence for {}-qubit'.format(NUM_QUBITS))\n",
        "plt.xlabel('Training Iterations')\n",
        "plt.ylabel('Cross Entropy Loss')"
      ]
    },
    {
      "cell_type": "code",
      "execution_count": 37,
      "metadata": {
        "id": "zaMHzwFhOTcY"
      },
      "outputs": [],
      "source": [
        "import torch\n",
        "from sklearn.metrics import accuracy_score, classification_report\n",
        "\n",
        "# Ensure the model is in evaluation mode\n",
        "model.eval()\n",
        "\n",
        "# Lists to store all predictions and true labels\n",
        "all_preds = []\n",
        "all_labels = []\n",
        "\n",
        "with torch.no_grad():\n",
        "    for data, target in test_loader:\n",
        "        data, target = data.to(device), target.to(device)\n",
        "\n",
        "        # Forward pass\n",
        "        output = model(data)\n",
        "\n",
        "        # Get the predicted class\n",
        "        _, predicted = torch.max(output, 1)\n",
        "\n",
        "        # Collect predictions and true labels\n",
        "        all_preds.extend(predicted.cpu().numpy())\n",
        "        all_labels.extend(target.cpu().numpy())"
      ]
    },
    {
      "cell_type": "code",
      "execution_count": 40,
      "metadata": {
        "colab": {
          "base_uri": "https://localhost:8080/"
        },
        "id": "oZl7zYuoOaBc",
        "outputId": "228aff58-2831-4c24-eae6-1fabb12e5a5e"
      },
      "outputs": [
        {
          "output_type": "stream",
          "name": "stdout",
          "text": [
            "Akurasi test set: 63.33%\n",
            "              precision    recall  f1-score   support\n",
            "\n",
            "           0       0.72      0.43      0.54        30\n",
            "           1       0.60      0.83      0.69        30\n",
            "\n",
            "    accuracy                           0.63        60\n",
            "   macro avg       0.66      0.63      0.62        60\n",
            "weighted avg       0.66      0.63      0.62        60\n",
            "\n"
          ]
        }
      ],
      "source": [
        "# Compute accuracy\n",
        "accuracy = accuracy_score(all_labels, all_preds)\n",
        "\n",
        "# Convert accuracy to percentage\n",
        "accuracy_percentage = accuracy * 100\n",
        "\n",
        "print(f'Akurasi test set: {accuracy_percentage:.2f}%')\n",
        "\n",
        "# Print classification report\n",
        "print(classification_report(all_labels, all_preds))"
      ]
    }
  ],
  "metadata": {
    "colab": {
      "provenance": []
    },
    "kernelspec": {
      "display_name": "Python 3",
      "name": "python3"
    },
    "language_info": {
      "name": "python"
    }
  },
  "nbformat": 4,
  "nbformat_minor": 0
}